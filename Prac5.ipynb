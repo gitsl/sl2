{
 "cells": [
  {
   "cell_type": "code",
   "execution_count": 2,
   "id": "ec18be48",
   "metadata": {},
   "outputs": [
    {
     "name": "stdout",
     "output_type": "stream",
     "text": [
      "Input x:  [ 1 -1 -1 -1]\n",
      "Output y:  [ 1 -1]\n"
     ]
    }
   ],
   "source": [
    "#Write a python program for bidirectional associative memory with two pairs of vectors\n",
    "\n",
    "import numpy as np\n",
    "\n",
    "# define two pairs of vectors \n",
    "x1 = np.array([1, 1, 1, -1])\n",
    "y1 = np.array([1, -1])\n",
    "x2 = np.array([-1, -1, 1, 1]) \n",
    "y2 = np.array([-1, 1])\n",
    "\n",
    "# compute weight matrix W\n",
    "W = np.outer(y1, x1) + np.outer(y2, x2)\n",
    "\n",
    "# define BAM function \n",
    "def bam(x):\n",
    "    y = W @ x\n",
    "    return np.where(y>=0, 1, -1)\n",
    "\n",
    "# test BAM with inputs\n",
    "x3 = np.array([1, -1, -1, -1]) \n",
    "y3 = bam(x3)\n",
    "\n",
    "# print output \n",
    "print(\"Input x: \", x3) \n",
    "print(\"Output y: \", y3)\n"
   ]
  },
  {
   "cell_type": "code",
   "execution_count": null,
   "id": "cbd8db87",
   "metadata": {},
   "outputs": [],
   "source": []
  },
  {
   "cell_type": "code",
   "execution_count": null,
   "id": "582af133",
   "metadata": {},
   "outputs": [],
   "source": []
  },
  {
   "cell_type": "code",
   "execution_count": null,
   "id": "71853c3c",
   "metadata": {},
   "outputs": [],
   "source": [
    "'''\n",
    "This code demonstrates how to implement a simple Bidirectional Associative Memory network and use it to compute outputs for given input vectors. \n",
    "In BAM, the input vectors are associated with specific output vectors through the weight matrix, and when presented with an input, the network retrieves the associated output.\n",
    "\n",
    "Import NumPy: The code begins by importing the NumPy library for numerical computations.\n",
    "\n",
    "Define two pairs of vectors:\n",
    "x1 and y1: These are the first pair of input and output vectors.\n",
    "x2 and y2: These are the second pair of input and output vectors.\n",
    "\n",
    "Compute the weight matrix W:\n",
    "The weight matrix W is computed by taking the outer product of each output vector (y1, y2) with its corresponding input vector (x1, x2), and then summing these outer products.\n",
    "\n",
    "Define the BAM function:\n",
    "The bam function takes an input vector x and computes the output vector y by multiplying the input vector x with the weight matrix W.\n",
    "The np.where function is used to threshold the output values of y. If a value in y is greater than or equal to zero, it is set to 1; otherwise, it is set to -1.\n",
    "\n",
    "Test BAM with input:\n",
    "An input vector x_test is defined for testing the BAM network.\n",
    "The BAM function is called with x_test as input, and the output vector y_test is computed.\n",
    "\n",
    "Print the output:\n",
    "The input vector x_test and the output vector y_test are printed to the console.\n",
    "\n",
    "'''"
   ]
  }
 ],
 "metadata": {
  "kernelspec": {
   "display_name": "Python 3 (ipykernel)",
   "language": "python",
   "name": "python3"
  },
  "language_info": {
   "codemirror_mode": {
    "name": "ipython",
    "version": 3
   },
   "file_extension": ".py",
   "mimetype": "text/x-python",
   "name": "python",
   "nbconvert_exporter": "python",
   "pygments_lexer": "ipython3",
   "version": "3.12.2"
  }
 },
 "nbformat": 4,
 "nbformat_minor": 5
}
