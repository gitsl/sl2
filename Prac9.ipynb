{
 "cells": [
  {
   "cell_type": "code",
   "execution_count": 3,
   "id": "4c22d30d",
   "metadata": {},
   "outputs": [],
   "source": [
    "#How to train a neural network with Tensorflow / Pytorch and evaluation of logistic \n",
    "#regression using tensorflow"
   ]
  },
  {
   "cell_type": "code",
   "execution_count": 4,
   "id": "1f67ad0d",
   "metadata": {},
   "outputs": [],
   "source": [
    "import tensorflow as tf \n",
    "import numpy as np\n",
    "from keras.models import Sequential\n",
    "from keras.layers import Dense, Flatten\n",
    "from sklearn.model_selection import train_test_split \n",
    "from sklearn.preprocessing import StandardScaler \n",
    "from sklearn.datasets import load_breast_cancer \n",
    "\n",
    "df=load_breast_cancer()"
   ]
  },
  {
   "cell_type": "code",
   "execution_count": 5,
   "id": "1fb861ab",
   "metadata": {},
   "outputs": [],
   "source": [
    "X_train,X_test,y_train,y_test=train_test_split(df.data,df.target,test_size=0.20,random_state=42) \n",
    "\n",
    "sc=StandardScaler()\n",
    "X_train=sc.fit_transform(X_train)\n",
    "X_test=sc.transform(X_test)"
   ]
  },
  {
   "cell_type": "code",
   "execution_count": 6,
   "id": "1651a9b5",
   "metadata": {},
   "outputs": [
    {
     "name": "stdout",
     "output_type": "stream",
     "text": [
      "Epoch 1/5\n"
     ]
    },
    {
     "name": "stderr",
     "output_type": "stream",
     "text": [
      "C:\\Users\\91862\\anaconda3\\lib\\site-packages\\keras\\src\\layers\\reshaping\\flatten.py:37: UserWarning: Do not pass an `input_shape`/`input_dim` argument to a layer. When using Sequential models, prefer using an `Input(shape)` object as the first layer in the model instead.\n",
      "  super().__init__(**kwargs)\n"
     ]
    },
    {
     "name": "stdout",
     "output_type": "stream",
     "text": [
      "\u001b[1m15/15\u001b[0m \u001b[32m━━━━━━━━━━━━━━━━━━━━\u001b[0m\u001b[37m\u001b[0m \u001b[1m2s\u001b[0m 3ms/step - accuracy: 0.5889 - loss: 0.7307\n",
      "Epoch 2/5\n",
      "\u001b[1m15/15\u001b[0m \u001b[32m━━━━━━━━━━━━━━━━━━━━\u001b[0m\u001b[37m\u001b[0m \u001b[1m0s\u001b[0m 2ms/step - accuracy: 0.6184 - loss: 0.6792 \n",
      "Epoch 3/5\n",
      "\u001b[1m15/15\u001b[0m \u001b[32m━━━━━━━━━━━━━━━━━━━━\u001b[0m\u001b[37m\u001b[0m \u001b[1m0s\u001b[0m 2ms/step - accuracy: 0.7238 - loss: 0.5717 \n",
      "Epoch 4/5\n",
      "\u001b[1m15/15\u001b[0m \u001b[32m━━━━━━━━━━━━━━━━━━━━\u001b[0m\u001b[37m\u001b[0m \u001b[1m0s\u001b[0m 2ms/step - accuracy: 0.7408 - loss: 0.5385 \n",
      "Epoch 5/5\n",
      "\u001b[1m15/15\u001b[0m \u001b[32m━━━━━━━━━━━━━━━━━━━━\u001b[0m\u001b[37m\u001b[0m \u001b[1m0s\u001b[0m 2ms/step - accuracy: 0.7511 - loss: 0.5417  \n",
      "\u001b[1m4/4\u001b[0m \u001b[32m━━━━━━━━━━━━━━━━━━━━\u001b[0m\u001b[37m\u001b[0m \u001b[1m0s\u001b[0m 4ms/step - accuracy: 0.7560 - loss: 0.5407  \n"
     ]
    }
   ],
   "source": [
    "model=Sequential([Flatten(input_shape=(X_train.shape[1],)),Dense(1,activation='sigmoid')]) \n",
    "\n",
    "model.compile(optimizer='adam',loss='binary_crossentropy',metrics=['accuracy'])\n",
    "\n",
    "model.fit(X_train,y_train,epochs=5) \n",
    "\n",
    "test_loss,test_accuracy = model.evaluate(X_test,y_test) "
   ]
  },
  {
   "cell_type": "code",
   "execution_count": 7,
   "id": "3b3940c2",
   "metadata": {},
   "outputs": [
    {
     "name": "stdout",
     "output_type": "stream",
     "text": [
      "Test Loss:  0.5205474495887756\n",
      "accuracy is 0.780701756477356\n"
     ]
    }
   ],
   "source": [
    "print(\"Test Loss: \",test_loss)\n",
    "print(\"accuracy is\",test_accuracy)"
   ]
  },
  {
   "cell_type": "code",
   "execution_count": null,
   "id": "61891ca4",
   "metadata": {},
   "outputs": [],
   "source": []
  },
  {
   "cell_type": "code",
   "execution_count": null,
   "id": "0c3d0eb1",
   "metadata": {},
   "outputs": [],
   "source": []
  },
  {
   "cell_type": "code",
   "execution_count": 2,
   "id": "55cb4bac",
   "metadata": {},
   "outputs": [
    {
     "data": {
      "text/plain": [
       "'\\nImport necessary libraries:\\nTensorFlow: for building and training the neural network.\\nNumPy: for numerical computations.\\nKeras functions from TensorFlow: for building the neural network model.\\nStandardScaler: for scaling the input features.\\nload_breast_cancer: for loading the breast cancer dataset.\\ntrain_test_split: for splitting the dataset into training and testing sets.\\n\\nLoad the breast cancer dataset using load_breast_cancer() function from sklearn.datasets module. This dataset contains features of breast cancer tumors and their corresponding labels (0: malignant, 1: benign).\\npython\\n\\nSplit the dataset into training and testing sets using train_test_split() function from sklearn.model_selection module. The data is split into 80% training and 20% testing sets.\\npython\\n\\nScale the features using StandardScaler() from sklearn.preprocessing module. This is done to standardize the feature values to have a mean of 0 and a standard deviation of 1.\\npython\\n\\nBuild a simple neural network model using Keras Sequential API. The model consists of:\\nA Flatten layer: to flatten the input data into a 1D array.\\nA Dense layer: with 1 neuron and sigmoid activation function, which is suitable for binary classification tasks.\\n\\nCompile the model using compile() method. Specify optimizer, loss function, and evaluation metrics. In this case:\\nOptimizer: Adam optimizer.\\nLoss function: Binary cross-entropy, suitable for binary classification tasks.\\nEvaluation metric: Accuracy.\\n\\nTrain the model on the training data using fit() method. Specify the training data, labels, and number of epochs (iterations over the entire training dataset).\\npython\\n\\nEvaluate the trained model on the test data using evaluate() method. This returns the loss value and evaluation metric value (accuracy in this case) on the test set.\\npython\\n\\nPrint the test loss and accuracy.\\n\\nThis program essentially trains a simple neural network model on the breast cancer dataset using TensorFlow/Keras and evaluates its performance using test data.\\n\\n'"
      ]
     },
     "execution_count": 2,
     "metadata": {},
     "output_type": "execute_result"
    }
   ],
   "source": [
    "'''\n",
    "Import necessary libraries:\n",
    "TensorFlow: for building and training the neural network.\n",
    "NumPy: for numerical computations.\n",
    "Keras functions from TensorFlow: for building the neural network model.\n",
    "StandardScaler: for scaling the input features.\n",
    "load_breast_cancer: for loading the breast cancer dataset.\n",
    "train_test_split: for splitting the dataset into training and testing sets.\n",
    "\n",
    "Load the breast cancer dataset using load_breast_cancer() function from sklearn.datasets module. This dataset contains features of breast cancer tumors and their corresponding labels (0: malignant, 1: benign).\n",
    "python\n",
    "\n",
    "Split the dataset into training and testing sets using train_test_split() function from sklearn.model_selection module. The data is split into 80% training and 20% testing sets.\n",
    "python\n",
    "\n",
    "Scale the features using StandardScaler() from sklearn.preprocessing module. This is done to standardize the feature values to have a mean of 0 and a standard deviation of 1.\n",
    "python\n",
    "\n",
    "Build a simple neural network model using Keras Sequential API. The model consists of:\n",
    "A Flatten layer: to flatten the input data into a 1D array.\n",
    "A Dense layer: with 1 neuron and sigmoid activation function, which is suitable for binary classification tasks.\n",
    "\n",
    "Compile the model using compile() method. Specify optimizer, loss function, and evaluation metrics. In this case:\n",
    "Optimizer: Adam optimizer.\n",
    "Loss function: Binary cross-entropy, suitable for binary classification tasks.\n",
    "Evaluation metric: Accuracy.\n",
    "\n",
    "Train the model on the training data using fit() method. Specify the training data, labels, and number of epochs (iterations over the entire training dataset).\n",
    "python\n",
    "\n",
    "Evaluate the trained model on the test data using evaluate() method. This returns the loss value and evaluation metric value (accuracy in this case) on the test set.\n",
    "python\n",
    "\n",
    "Print the test loss and accuracy.\n",
    "\n",
    "This program essentially trains a simple neural network model on the breast cancer dataset using TensorFlow/Keras and evaluates its performance using test data.\n",
    "\n",
    "'''"
   ]
  },
  {
   "cell_type": "code",
   "execution_count": null,
   "id": "c8a6d874",
   "metadata": {},
   "outputs": [],
   "source": []
  }
 ],
 "metadata": {
  "kernelspec": {
   "display_name": "Python 3 (ipykernel)",
   "language": "python",
   "name": "python3"
  },
  "language_info": {
   "codemirror_mode": {
    "name": "ipython",
    "version": 3
   },
   "file_extension": ".py",
   "mimetype": "text/x-python",
   "name": "python",
   "nbconvert_exporter": "python",
   "pygments_lexer": "ipython3",
   "version": "3.12.2"
  }
 },
 "nbformat": 4,
 "nbformat_minor": 5
}
