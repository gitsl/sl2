{
 "cells": [
  {
   "cell_type": "code",
   "execution_count": 3,
   "id": "8eddb2c0",
   "metadata": {},
   "outputs": [],
   "source": [
    "#Write python program to demonstrate Perceptron NN to recognize even and odd numbers. Given numbers are in ASCII from 0 to 1"
   ]
  },
  {
   "cell_type": "code",
   "execution_count": 4,
   "id": "152fd681",
   "metadata": {},
   "outputs": [
    {
     "name": "stdout",
     "output_type": "stream",
     "text": [
      "[0 0 0 0 0 0 0] is even\n",
      "[0 0 0 0 0 0 1] is odd\n",
      "[0 0 0 0 0 1 0] is even\n",
      "[0 0 0 0 0 1 1] is odd\n",
      "[0 0 0 0 1 0 0] is even\n",
      "[0 0 0 0 1 0 1] is odd\n",
      "[0 0 0 0 1 1 0] is even\n",
      "[0 0 0 0 1 1 1] is odd\n",
      "[0 0 0 1 0 0 0] is even\n",
      "[0 0 0 1 0 0 1] is odd\n"
     ]
    }
   ],
   "source": [
    "import numpy as np\n",
    "\n",
    "# Define the perceptron class\n",
    "class Perceptron:\n",
    "\tdef __init__(self, input_size=7, lr=0.1):\n",
    "\t\tself.W = np.zeros(input_size + 1)\n",
    "\t\tself.lr = lr\n",
    "\n",
    "\tdef activation_fn(self, x):\n",
    "\t\treturn 1 if x >= 0 else 0\n",
    "\n",
    "\tdef predict(self, x):\n",
    "\t\tx = np.insert(x, 0, 1)\n",
    "\t\tz = self.W.T.dot(x)\n",
    "\t\ta = self.activation_fn(z)\n",
    "\t\treturn a\n",
    "\n",
    "\tdef train(self, X, Y, epochs):\n",
    "\t\tfor _ in range(epochs):\n",
    "\t\t\tfor i in range(Y.shape[0]):\n",
    "\t\t\t\tx = X[i]\n",
    "\t\t\t\ty = self.predict(x)\n",
    "\t\t\t\te = Y[i] - y\n",
    "\t\t\t\tself.W = self.W + self.lr * e * np.insert(x, 0, 1)\n",
    "\n",
    "# Define the input data and labels\n",
    "X = np.array([\n",
    "[0,0,0,0,0,0,0], # 0\n",
    "[0,0,0,0,0,0,1], # 1\n",
    "[0,0,0,0,0,1,0], # 2\n",
    "[0,0,0,0,0,1,1], # 3\n",
    "[0,0,0,0,1,0,0], # 4\n",
    "[0,0,0,0,1,0,1], # 5\n",
    "[0,0,0,0,1,1,0], # 6\n",
    "[0,0,0,0,1,1,1], # 7\n",
    "[0,0,0,1,0,0,0], # 8\n",
    "[0,0,0,1,0,0,1], # 9\n",
    "\n",
    "])\n",
    "\n",
    "Y = np.array([0, 1, 0, 1, 0, 1, 0, 1, 0, 1])\n",
    "\n",
    "# Create the perceptron and train it\n",
    "perceptron = Perceptron()\n",
    "perceptron.train(X, Y, epochs=100)\n",
    "\n",
    "# Test the perceptron on some input data\n",
    "test_X = np.array([\n",
    "[0,0,0,0,0,0,0], # 0\n",
    "[0,0,0,0,0,0,1], # 1\n",
    "[0,0,0,0,0,1,0], # 2\n",
    "[0,0,0,0,0,1,1], # 3\n",
    "[0,0,0,0,1,0,0], # 4\n",
    "[0,0,0,0,1,0,1], # 5\n",
    "[0,0,0,0,1,1,0], # 6\n",
    "[0,0,0,0,1,1,1], # 7\n",
    "[0,0,0,1,0,0,0], # 8\n",
    "[0,0,0,1,0,0,1], # 9\n",
    "])\n",
    "\n",
    "for i in range(test_X.shape[0]):\n",
    "\tx = test_X[i]\n",
    "\ty = perceptron.predict(x)\n",
    "\tprint(f'{x} is {\"even\" if y == 0 else \"odd\"}')"
   ]
  },
  {
   "cell_type": "code",
   "execution_count": null,
   "id": "a3d86e27",
   "metadata": {},
   "outputs": [],
   "source": []
  },
  {
   "cell_type": "code",
   "execution_count": null,
   "id": "f470cbfc",
   "metadata": {},
   "outputs": [],
   "source": []
  },
  {
   "cell_type": "code",
   "execution_count": 5,
   "id": "8c53a109",
   "metadata": {},
   "outputs": [
    {
     "data": {
      "text/plain": [
       "\"\\nPerceptron Class:\\n__init__: Initializes the perceptron with zero weights and a learning rate.\\nactivation_fn: Defines the activation function. Here, it's a step function, returning 1 if the input is greater than or equal to zero, otherwise 0.\\npredict: Predicts the output based on the input and current weights. It inserts a bias term (1) to the input vector, computes the dot product with weights, and applies the activation function.\\ntrain: Performs training on the perceptron. It iterates over the dataset for a specified number of epochs, updating weights based on prediction errors.\\nInput Data and Labels (X and Y):\\nX: Input data containing binary vectors representing numbers from 0 to 9.\\nY: Corresponding labels indicating whether the number is even (0) or odd (1).\\nTraining:\\nAn instance of Perceptron is created.\\ntrain method is called to train the perceptron on the input data X and labels Y for a specified number of epochs (100 in this case).\\nTesting:\\nThe trained perceptron is tested on a separate set of input data test_X.\\nFor each input vector in test_X, the perceptron predicts whether the number is even or odd and prints the result.\\n\\n\""
      ]
     },
     "execution_count": 5,
     "metadata": {},
     "output_type": "execute_result"
    }
   ],
   "source": [
    "'''\n",
    "Perceptron Class:\n",
    "__init__: Initializes the perceptron with zero weights and a learning rate.\n",
    "activation_fn: Defines the activation function. Here, it's a step function, returning 1 if the input is greater than or equal to zero, otherwise 0.\n",
    "predict: Predicts the output based on the input and current weights. It inserts a bias term (1) to the input vector, computes the dot product with weights, and applies the activation function.\n",
    "train: Performs training on the perceptron. It iterates over the dataset for a specified number of epochs, updating weights based on prediction errors.\n",
    "Input Data and Labels (X and Y):\n",
    "X: Input data containing binary vectors representing numbers from 0 to 9.\n",
    "Y: Corresponding labels indicating whether the number is even (0) or odd (1).\n",
    "Training:\n",
    "An instance of Perceptron is created.\n",
    "train method is called to train the perceptron on the input data X and labels Y for a specified number of epochs (100 in this case).\n",
    "Testing:\n",
    "The trained perceptron is tested on a separate set of input data test_X.\n",
    "For each input vector in test_X, the perceptron predicts whether the number is even or odd and prints the result.\n",
    "\n",
    "'''"
   ]
  },
  {
   "cell_type": "code",
   "execution_count": null,
   "id": "62fcebfc",
   "metadata": {},
   "outputs": [],
   "source": []
  }
 ],
 "metadata": {
  "kernelspec": {
   "display_name": "Python 3 (ipykernel)",
   "language": "python",
   "name": "python3"
  },
  "language_info": {
   "codemirror_mode": {
    "name": "ipython",
    "version": 3
   },
   "file_extension": ".py",
   "mimetype": "text/x-python",
   "name": "python",
   "nbconvert_exporter": "python",
   "pygments_lexer": "ipython3",
   "version": "3.12.2"
  }
 },
 "nbformat": 4,
 "nbformat_minor": 5
}
