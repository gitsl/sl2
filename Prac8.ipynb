{
 "cells": [
  {
   "cell_type": "code",
   "execution_count": 2,
   "id": "5c0ebf2b",
   "metadata": {},
   "outputs": [],
   "source": [
    "#Write a python program to design a Hopfield Network which stores 4 vectors"
   ]
  },
  {
   "cell_type": "code",
   "execution_count": 4,
   "id": "b795897a",
   "metadata": {},
   "outputs": [],
   "source": [
    "#Hebbian Rule"
   ]
  },
  {
   "cell_type": "code",
   "execution_count": 5,
   "id": "388c483c",
   "metadata": {},
   "outputs": [
    {
     "name": "stdout",
     "output_type": "stream",
     "text": [
      "Input pattern: [ 1  1 -1 -1]\n",
      "Predicted pattern: [-1. -1. -1. -1.]\n",
      "Input pattern: [-1 -1  1  1]\n",
      "Predicted pattern: [-1. -1. -1. -1.]\n",
      "Input pattern: [ 1 -1  1 -1]\n",
      "Predicted pattern: [-1. -1. -1. -1.]\n",
      "Input pattern: [-1  1 -1  1]\n",
      "Predicted pattern: [-1. -1. -1. -1.]\n"
     ]
    }
   ],
   "source": [
    "import numpy as np \n",
    "class HopfieldNetwork:\n",
    "    def __init__(self, n_neurons): \n",
    "        self.weights = np.zeros((n_neurons, n_neurons))\n",
    "\n",
    "    def train(self, patterns):\n",
    "        for pattern in patterns:\n",
    "            self.weights += np.outer(pattern, pattern) \n",
    "            np.fill_diagonal(self.weights, 0)\n",
    "\n",
    "    def predict(self, pattern):\n",
    "        energy = -0.5 * ((pattern @ self.weights) @ pattern) \n",
    "        return np.sign((pattern @ self.weights) + energy)\n",
    "\n",
    "\n",
    "patterns = np.array([\n",
    "                [1, 1, -1, -1],\n",
    "                [-1, -1, 1, 1],\n",
    "                [1, -1, 1, -1],\n",
    "                [-1, 1, -1, 1]\n",
    "                ])\n",
    "n_neurons = 4\n",
    "\n",
    "network = HopfieldNetwork(n_neurons) \n",
    "\n",
    "network.train(patterns)\n",
    "\n",
    "for pattern in patterns:\n",
    "    prediction = network.predict(pattern) \n",
    "    print('Input pattern:', pattern) \n",
    "    print('Predicted pattern:', prediction)"
   ]
  },
  {
   "cell_type": "code",
   "execution_count": null,
   "id": "577b286b",
   "metadata": {},
   "outputs": [],
   "source": []
  },
  {
   "cell_type": "code",
   "execution_count": null,
   "id": "2d000245",
   "metadata": {},
   "outputs": [],
   "source": []
  },
  {
   "cell_type": "code",
   "execution_count": 7,
   "id": "31626ee3",
   "metadata": {},
   "outputs": [
    {
     "data": {
      "text/plain": [
       "'\\nHopfieldNetwork Class:\\nThe HopfieldNetwork class represents the Hopfield network.\\nIt has an initializer __init__ which takes the number of neurons (n_neurons) in the network as input and initializes the weights matrix with zeros.\\nThe weights matrix (self.weights) stores the connection weights between neurons.\\n\\nTraining (train method):\\nThe train method takes a set of binary patterns as input and adjusts the weights matrix accordingly.\\nIt iterates over each pattern in the input set.\\nFor each pattern, it computes the outer product of the pattern with itself using np.outer, which gives a matrix representing the connections between neurons.\\nIt then adds this outer product matrix to the weights matrix (self.weights), effectively updating the weights based on the input pattern.\\nAfter updating the weights, it fills the diagonal of the weights matrix with zeros to ensure that neurons do not have self-connections.\\n\\nPrediction (predict method):\\nThe predict method takes a single binary pattern as input and returns the predicted (reconstructed) pattern.\\nIt calculates the energy of the input pattern using the energy function for Hopfield networks: \\n−0.5∗pattern∗weights∗pattern.\\nThen, it computes the dot product of the input pattern with the weights matrix (pattern @ self.weights).\\nFinally, it adds the energy to the dot product and applies the sign function element-wise to get the predicted pattern.\\n\\nPatterns and Network Initialization:\\nThe program defines a set of binary patterns (patterns) that the network will be trained on.\\nIt also specifies the number of neurons (n_neurons) in the network.\\nAn instance of the HopfieldNetwork class is created with the specified number of neurons.\\n\\nTraining and Prediction:\\nThe program trains the network with the provided patterns using the train method.\\nThen, it iterates over each pattern in the input set and predicts the pattern using the predict method.\\nThe input pattern and the predicted pattern are printed for each iteration.\\n\\nThis program demonstrates how a Hopfield network can be trained to store binary patterns and then recall similar patterns when presented with noisy or incomplete input.\\n\\n'"
      ]
     },
     "execution_count": 7,
     "metadata": {},
     "output_type": "execute_result"
    }
   ],
   "source": [
    "'''\n",
    "HopfieldNetwork Class:\n",
    "The HopfieldNetwork class represents the Hopfield network.\n",
    "It has an initializer __init__ which takes the number of neurons (n_neurons) in the network as input and initializes the weights matrix with zeros.\n",
    "The weights matrix (self.weights) stores the connection weights between neurons.\n",
    "\n",
    "Training (train method):\n",
    "The train method takes a set of binary patterns as input and adjusts the weights matrix accordingly.\n",
    "It iterates over each pattern in the input set.\n",
    "For each pattern, it computes the outer product of the pattern with itself using np.outer, which gives a matrix representing the connections between neurons.\n",
    "It then adds this outer product matrix to the weights matrix (self.weights), effectively updating the weights based on the input pattern.\n",
    "After updating the weights, it fills the diagonal of the weights matrix with zeros to ensure that neurons do not have self-connections.\n",
    "\n",
    "Prediction (predict method):\n",
    "The predict method takes a single binary pattern as input and returns the predicted (reconstructed) pattern.\n",
    "It calculates the energy of the input pattern using the energy function for Hopfield networks: \n",
    "−0.5∗pattern∗weights∗pattern.\n",
    "Then, it computes the dot product of the input pattern with the weights matrix (pattern @ self.weights).\n",
    "Finally, it adds the energy to the dot product and applies the sign function element-wise to get the predicted pattern.\n",
    "\n",
    "Patterns and Network Initialization:\n",
    "The program defines a set of binary patterns (patterns) that the network will be trained on.\n",
    "It also specifies the number of neurons (n_neurons) in the network.\n",
    "An instance of the HopfieldNetwork class is created with the specified number of neurons.\n",
    "\n",
    "Training and Prediction:\n",
    "The program trains the network with the provided patterns using the train method.\n",
    "Then, it iterates over each pattern in the input set and predicts the pattern using the predict method.\n",
    "The input pattern and the predicted pattern are printed for each iteration.\n",
    "\n",
    "This program demonstrates how a Hopfield network can be trained to store binary patterns and then recall similar patterns when presented with noisy or incomplete input.\n",
    "\n",
    "'''"
   ]
  },
  {
   "cell_type": "code",
   "execution_count": null,
   "id": "24e82544",
   "metadata": {},
   "outputs": [],
   "source": []
  }
 ],
 "metadata": {
  "kernelspec": {
   "display_name": "Python 3 (ipykernel)",
   "language": "python",
   "name": "python3"
  },
  "language_info": {
   "codemirror_mode": {
    "name": "ipython",
    "version": 3
   },
   "file_extension": ".py",
   "mimetype": "text/x-python",
   "name": "python",
   "nbconvert_exporter": "python",
   "pygments_lexer": "ipython3",
   "version": "3.12.2"
  }
 },
 "nbformat": 4,
 "nbformat_minor": 5
}
