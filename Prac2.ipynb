{
 "cells": [
  {
   "cell_type": "code",
   "execution_count": 20,
   "id": "c57a0c71",
   "metadata": {},
   "outputs": [],
   "source": [
    "#Generate AND NOT function using McCulloch-Pitts NN."
   ]
  },
  {
   "cell_type": "code",
   "execution_count": 37,
   "id": "5a84ba0d",
   "metadata": {},
   "outputs": [],
   "source": [
    "import numpy as np"
   ]
  },
  {
   "cell_type": "code",
   "execution_count": 40,
   "id": "c3de92c4",
   "metadata": {},
   "outputs": [
    {
     "name": "stdout",
     "output_type": "stream",
     "text": [
      "AND NOT(0, 0) = 0\n",
      "AND NOT(0, 1) = 0\n",
      "AND NOT(1, 0) = 1\n",
      "AND NOT(1, 1) = 0\n"
     ]
    }
   ],
   "source": [
    "class McCullochPittsNeuron:\n",
    "    def __init__(self, weights, threshold):\n",
    "        self.weights = np.array(weights)\n",
    "        self.threshold = threshold\n",
    "\n",
    "    def activate(self, inputs):\n",
    "        weighted_sum = np.dot(inputs, self.weights)\n",
    "        return 1 if weighted_sum >= self.threshold else 0\n",
    "\n",
    "def AND_NOT(input1, input2):\n",
    "    weights = [1, -1] \n",
    "    threshold = 1\n",
    "\n",
    "    neuron = McCullochPittsNeuron(weights, threshold)\n",
    "\n",
    "    return neuron.activate([input1, input2])\n",
    "\n",
    "print(\"AND NOT(0, 0) =\", AND_NOT(0, 0))\n",
    "print(\"AND NOT(0, 1) =\", AND_NOT(0, 1))\n",
    "print(\"AND NOT(1, 0) =\", AND_NOT(1, 0))\n",
    "print(\"AND NOT(1, 1) =\", AND_NOT(1, 1))"
   ]
  },
  {
   "cell_type": "code",
   "execution_count": null,
   "id": "893093ae",
   "metadata": {},
   "outputs": [],
   "source": []
  },
  {
   "cell_type": "code",
   "execution_count": null,
   "id": "dc71a544",
   "metadata": {},
   "outputs": [],
   "source": []
  },
  {
   "cell_type": "code",
   "execution_count": 2,
   "id": "f236547b",
   "metadata": {},
   "outputs": [
    {
     "data": {
      "text/plain": [
       "\"\\nMcCulloch-Pitts Neuron Class:\\nThe McCullochPittsNeuron class represents a single neuron in the McCulloch-Pitts neural network model.\\n\\n__init__  : initializes the neuron with weights and a threshold.\\nThe weights attribute stores the weights associated with each input.\\nThe threshold attribute represents the threshold for the neuron's activation.\\n\\nActivate : takes inputs, computes the weighted sum of inputs multiplied by weights, and checks if it crosses the threshold. If the weighted sum is greater than or equal to the threshold, the neuron fires (returns 1); otherwise, it does not fire (returns 0).\\n\\nAND NOT Function:\\nThe AND_NOT function simulates the AND NOT logic using the McCulloch-Pitts neuron.\\nIt takes two inputs, input1 and input2.\\nWeights [1, -1] are chosen because we want the first input to be positive and the second input to be negative. If both inputs are 1, the weighted sum will not cross the threshold, producing a 0 output. Otherwise, it will produce a 1 output.\\nThe threshold is set to 1, meaning the neuron fires only if the weighted sum is greater than or equal to 1.\\nThe function creates a McCullochPittsNeuron instance with the chosen weights and threshold and activates it with the given inputs.\\nTesting:\\nThe print statements at the end of the code test the AND_NOT function with different input combinations.\\n\\n\""
      ]
     },
     "execution_count": 2,
     "metadata": {},
     "output_type": "execute_result"
    }
   ],
   "source": [
    "'''\n",
    "McCulloch-Pitts Neuron Class:\n",
    "The McCullochPittsNeuron class represents a single neuron in the McCulloch-Pitts neural network model.\n",
    "\n",
    "__init__  : initializes the neuron with weights and a threshold.\n",
    "The weights attribute stores the weights associated with each input.\n",
    "The threshold attribute represents the threshold for the neuron's activation.\n",
    "\n",
    "Activate : takes inputs, computes the weighted sum of inputs multiplied by weights, and checks if it crosses the threshold. If the weighted sum is greater than or equal to the threshold, the neuron fires (returns 1); otherwise, it does not fire (returns 0).\n",
    "\n",
    "AND NOT Function:\n",
    "The AND_NOT function simulates the AND NOT logic using the McCulloch-Pitts neuron.\n",
    "It takes two inputs, input1 and input2.\n",
    "Weights [1, -1] are chosen because we want the first input to be positive and the second input to be negative. If both inputs are 1, the weighted sum will not cross the threshold, producing a 0 output. Otherwise, it will produce a 1 output.\n",
    "The threshold is set to 1, meaning the neuron fires only if the weighted sum is greater than or equal to 1.\n",
    "The function creates a McCullochPittsNeuron instance with the chosen weights and threshold and activates it with the given inputs.\n",
    "Testing:\n",
    "The print statements at the end of the code test the AND_NOT function with different input combinations.\n",
    "\n",
    "'''"
   ]
  },
  {
   "cell_type": "code",
   "execution_count": null,
   "id": "59d9bd13",
   "metadata": {},
   "outputs": [],
   "source": []
  }
 ],
 "metadata": {
  "kernelspec": {
   "display_name": "Python 3 (ipykernel)",
   "language": "python",
   "name": "python3"
  },
  "language_info": {
   "codemirror_mode": {
    "name": "ipython",
    "version": 3
   },
   "file_extension": ".py",
   "mimetype": "text/x-python",
   "name": "python",
   "nbconvert_exporter": "python",
   "pygments_lexer": "ipython3",
   "version": "3.10.9"
  }
 },
 "nbformat": 4,
 "nbformat_minor": 5
}
